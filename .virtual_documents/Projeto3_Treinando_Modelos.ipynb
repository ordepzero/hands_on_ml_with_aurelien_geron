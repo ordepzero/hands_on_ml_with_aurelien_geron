




















import numpy as np
%matplotlib inline
import matplotlib as mpl
import matplotlib.pyplot as plt


# gera números entre 0 e 2 de uma distribuição normal
X = 2 * np.random.rand(100, 1)

# representando a Equação da Reta
y = 4 + 3 * X + np.random.randn(100, 1)


plt.plot(X, y, "b.")
plt.xlabel("$x_1$", fontsize=18)
plt.ylabel("$y$", rotation=0, fontsize=18)
plt.axis([0, 2, 0, 15])
plt.show()


# adiciona 1 (um) em cada instancia
X_b = np.c_[np.ones((100, 1)), X]  

# np.linalg.inv: calcula a matriz inversa
theta_best = np.linalg.inv(X_b.T.dot(X_b)).dot(X_b.T).dot(y)


theta_best


# mostrando como fica a saida para o seguinte comando
np.ones((2, 1))


X_new = np.array([[0], [2]])
# adiciona 1 (um) em cada instancia
X_new_b = np.c_[np.ones((2, 1)), X_new] 
y_predict = X_new_b.dot(theta_best)
y_predict


plt.plot(X_new, y_predict, "r-")
plt.plot(X, y, "b.")
plt.axis([0, 2, 0, 15])
plt.show()




















eta = 0.1  # taxa de aprendizagem
n_iterations = 1000
m = 100

theta = np.random.randn(2,1)  # inicialização aleatória

for iteration in range(n_iterations):
    gradients = 2/m * X_b.T.dot(X_b.dot(theta) - y) # cálculo do gradiente da função de custo Mean Squared Error (MSE)
    theta = theta - eta * gradients


theta





# Calculando o Y
X_new_b.dot(theta)


theta_path_bgd = []

def plot_gradient_descent(theta, eta, theta_path=None):
    m = len(X_b)
    plt.plot(X, y, "b.")
    n_iterations = 1000
    for iteration in range(n_iterations):
        if iteration < 10:
            y_predict = X_new_b.dot(theta)
            style = "b-" if iteration > 0 else "r--"
            plt.plot(X_new, y_predict, style)
        gradients = 2/m * X_b.T.dot(X_b.dot(theta) - y)
        theta = theta - eta * gradients
        if theta_path is not None:
            theta_path.append(theta)
    plt.xlabel("$x_1$", fontsize=18)
    plt.axis([0, 2, 0, 15])
    plt.title(r"$\eta = {}$".format(eta), fontsize=16)


np.random.seed(42)
theta = np.random.randn(2,1)  # random initialization

plt.figure(figsize=(10,4))
plt.subplot(131); plot_gradient_descent(theta, eta=0.02)
plt.ylabel("$y$", rotation=0, fontsize=18)
plt.subplot(132); plot_gradient_descent(theta, eta=0.1, theta_path=theta_path_bgd)
plt.subplot(133); plot_gradient_descent(theta, eta=0.5)

plt.show()



