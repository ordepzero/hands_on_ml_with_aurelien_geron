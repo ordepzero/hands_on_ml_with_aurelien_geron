{
 "cells": [
  {
   "cell_type": "code",
   "execution_count": null,
   "id": "75a64d46-ddb4-4076-b5fb-2e93ba589d7c",
   "metadata": {},
   "outputs": [],
   "source": []
  }
 ],
 "metadata": {
  "kernelspec": {
   "display_name": "datascience_guide",
   "language": "python",
   "name": "datascience_guide"
  },
  "language_info": {
   "codemirror_mode": {
    "name": "ipython",
    "version": 3
   },
   "file_extension": ".py",
   "mimetype": "text/x-python",
   "name": "python",
   "nbconvert_exporter": "python",
   "pygments_lexer": "ipython3",
   "version": "3.8.18"
  }
 },
 "nbformat": 4,
 "nbformat_minor": 5
}
